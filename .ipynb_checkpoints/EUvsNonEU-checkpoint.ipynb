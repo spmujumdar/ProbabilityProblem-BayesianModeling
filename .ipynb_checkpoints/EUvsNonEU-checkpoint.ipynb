{
 "cells": [
  {
   "cell_type": "markdown",
   "id": "15a8d167",
   "metadata": {},
   "source": [
    "Added pandas, numpy, and matplot.lib libraries"
   ]
  },
  {
   "cell_type": "code",
   "execution_count": 11,
   "id": "dbfe245d",
   "metadata": {},
   "outputs": [
    {
     "name": "stdout",
     "output_type": "stream",
     "text": [
      "Collecting pymc3\n",
      "\u001b[33m  WARNING: Retrying (Retry(total=4, connect=None, read=None, redirect=None, status=None)) after connection broken by 'SSLError(SSLCertVerificationError(1, '[SSL: CERTIFICATE_VERIFY_FAILED] certificate verify failed: certificate is not yet valid (_ssl.c:1129)'))': /packages/b9/e4/2aff00744c2d7b78836f32e407e5751883ab36cae5509db60bc3dd86ee43/pymc3-3.11.4-py3-none-any.whl\u001b[0m\n",
      "\u001b[33m  WARNING: Retrying (Retry(total=3, connect=None, read=None, redirect=None, status=None)) after connection broken by 'SSLError(SSLCertVerificationError(1, '[SSL: CERTIFICATE_VERIFY_FAILED] certificate verify failed: certificate is not yet valid (_ssl.c:1129)'))': /packages/b9/e4/2aff00744c2d7b78836f32e407e5751883ab36cae5509db60bc3dd86ee43/pymc3-3.11.4-py3-none-any.whl\u001b[0m\n",
      "\u001b[33m  WARNING: Retrying (Retry(total=2, connect=None, read=None, redirect=None, status=None)) after connection broken by 'SSLError(SSLCertVerificationError(1, '[SSL: CERTIFICATE_VERIFY_FAILED] certificate verify failed: certificate is not yet valid (_ssl.c:1129)'))': /packages/b9/e4/2aff00744c2d7b78836f32e407e5751883ab36cae5509db60bc3dd86ee43/pymc3-3.11.4-py3-none-any.whl\u001b[0m\n",
      "\u001b[33m  WARNING: Retrying (Retry(total=1, connect=None, read=None, redirect=None, status=None)) after connection broken by 'SSLError(SSLCertVerificationError(1, '[SSL: CERTIFICATE_VERIFY_FAILED] certificate verify failed: certificate is not yet valid (_ssl.c:1129)'))': /packages/b9/e4/2aff00744c2d7b78836f32e407e5751883ab36cae5509db60bc3dd86ee43/pymc3-3.11.4-py3-none-any.whl\u001b[0m\n",
      "\u001b[33m  WARNING: Retrying (Retry(total=0, connect=None, read=None, redirect=None, status=None)) after connection broken by 'SSLError(SSLCertVerificationError(1, '[SSL: CERTIFICATE_VERIFY_FAILED] certificate verify failed: certificate is not yet valid (_ssl.c:1129)'))': /packages/b9/e4/2aff00744c2d7b78836f32e407e5751883ab36cae5509db60bc3dd86ee43/pymc3-3.11.4-py3-none-any.whl\u001b[0m\n",
      "\u001b[31mERROR: Could not install packages due to an OSError: HTTPSConnectionPool(host='files.pythonhosted.org', port=443): Max retries exceeded with url: /packages/b9/e4/2aff00744c2d7b78836f32e407e5751883ab36cae5509db60bc3dd86ee43/pymc3-3.11.4-py3-none-any.whl (Caused by SSLError(SSLCertVerificationError(1, '[SSL: CERTIFICATE_VERIFY_FAILED] certificate verify failed: certificate is not yet valid (_ssl.c:1129)')))\n",
      "\u001b[0m\n",
      "Note: you may need to restart the kernel to use updated packages.\n"
     ]
    }
   ],
   "source": [
    "pip install pymc3"
   ]
  },
  {
   "cell_type": "code",
   "execution_count": 1,
   "id": "1933ac46",
   "metadata": {},
   "outputs": [],
   "source": [
    "import pandas as pd\n",
    "import numpy as np\n",
    "import matplotlib.pyplot as plt\n",
    "%matplotlib inline"
   ]
  },
  {
   "cell_type": "markdown",
   "id": "47d12f7e",
   "metadata": {},
   "source": [
    "Loaded and displayed data file."
   ]
  },
  {
   "cell_type": "code",
   "execution_count": 2,
   "id": "4b28abab",
   "metadata": {
    "scrolled": true
   },
   "outputs": [
    {
     "data": {
      "text/html": [
       "<div>\n",
       "<style scoped>\n",
       "    .dataframe tbody tr th:only-of-type {\n",
       "        vertical-align: middle;\n",
       "    }\n",
       "\n",
       "    .dataframe tbody tr th {\n",
       "        vertical-align: top;\n",
       "    }\n",
       "\n",
       "    .dataframe thead th {\n",
       "        text-align: right;\n",
       "    }\n",
       "</style>\n",
       "<table border=\"1\" class=\"dataframe\">\n",
       "  <thead>\n",
       "    <tr style=\"text-align: right;\">\n",
       "      <th></th>\n",
       "      <th>date</th>\n",
       "      <th>home_team</th>\n",
       "      <th>away_team</th>\n",
       "      <th>home_score</th>\n",
       "      <th>away_score</th>\n",
       "      <th>tournament</th>\n",
       "      <th>city</th>\n",
       "      <th>country</th>\n",
       "      <th>neutral</th>\n",
       "    </tr>\n",
       "  </thead>\n",
       "  <tbody>\n",
       "    <tr>\n",
       "      <th>0</th>\n",
       "      <td>1872-11-30</td>\n",
       "      <td>Scotland</td>\n",
       "      <td>England</td>\n",
       "      <td>0</td>\n",
       "      <td>0</td>\n",
       "      <td>Friendly</td>\n",
       "      <td>Glasgow</td>\n",
       "      <td>Scotland</td>\n",
       "      <td>False</td>\n",
       "    </tr>\n",
       "    <tr>\n",
       "      <th>1</th>\n",
       "      <td>1873-03-08</td>\n",
       "      <td>England</td>\n",
       "      <td>Scotland</td>\n",
       "      <td>4</td>\n",
       "      <td>2</td>\n",
       "      <td>Friendly</td>\n",
       "      <td>London</td>\n",
       "      <td>England</td>\n",
       "      <td>False</td>\n",
       "    </tr>\n",
       "    <tr>\n",
       "      <th>2</th>\n",
       "      <td>1874-03-07</td>\n",
       "      <td>Scotland</td>\n",
       "      <td>England</td>\n",
       "      <td>2</td>\n",
       "      <td>1</td>\n",
       "      <td>Friendly</td>\n",
       "      <td>Glasgow</td>\n",
       "      <td>Scotland</td>\n",
       "      <td>False</td>\n",
       "    </tr>\n",
       "    <tr>\n",
       "      <th>3</th>\n",
       "      <td>1875-03-06</td>\n",
       "      <td>England</td>\n",
       "      <td>Scotland</td>\n",
       "      <td>2</td>\n",
       "      <td>2</td>\n",
       "      <td>Friendly</td>\n",
       "      <td>London</td>\n",
       "      <td>England</td>\n",
       "      <td>False</td>\n",
       "    </tr>\n",
       "    <tr>\n",
       "      <th>4</th>\n",
       "      <td>1876-03-04</td>\n",
       "      <td>Scotland</td>\n",
       "      <td>England</td>\n",
       "      <td>3</td>\n",
       "      <td>0</td>\n",
       "      <td>Friendly</td>\n",
       "      <td>Glasgow</td>\n",
       "      <td>Scotland</td>\n",
       "      <td>False</td>\n",
       "    </tr>\n",
       "    <tr>\n",
       "      <th>...</th>\n",
       "      <td>...</td>\n",
       "      <td>...</td>\n",
       "      <td>...</td>\n",
       "      <td>...</td>\n",
       "      <td>...</td>\n",
       "      <td>...</td>\n",
       "      <td>...</td>\n",
       "      <td>...</td>\n",
       "      <td>...</td>\n",
       "    </tr>\n",
       "    <tr>\n",
       "      <th>42894</th>\n",
       "      <td>2021-10-14</td>\n",
       "      <td>Argentina</td>\n",
       "      <td>Peru</td>\n",
       "      <td>1</td>\n",
       "      <td>0</td>\n",
       "      <td>FIFA World Cup qualification</td>\n",
       "      <td>Buenos Aires</td>\n",
       "      <td>Argentina</td>\n",
       "      <td>False</td>\n",
       "    </tr>\n",
       "    <tr>\n",
       "      <th>42895</th>\n",
       "      <td>2021-10-14</td>\n",
       "      <td>Brazil</td>\n",
       "      <td>Uruguay</td>\n",
       "      <td>4</td>\n",
       "      <td>1</td>\n",
       "      <td>FIFA World Cup qualification</td>\n",
       "      <td>Manaus</td>\n",
       "      <td>Brazil</td>\n",
       "      <td>False</td>\n",
       "    </tr>\n",
       "    <tr>\n",
       "      <th>42896</th>\n",
       "      <td>2021-10-14</td>\n",
       "      <td>Chile</td>\n",
       "      <td>Venezuela</td>\n",
       "      <td>3</td>\n",
       "      <td>0</td>\n",
       "      <td>FIFA World Cup qualification</td>\n",
       "      <td>Santiago</td>\n",
       "      <td>Chile</td>\n",
       "      <td>False</td>\n",
       "    </tr>\n",
       "    <tr>\n",
       "      <th>42897</th>\n",
       "      <td>2021-10-16</td>\n",
       "      <td>India</td>\n",
       "      <td>Nepal</td>\n",
       "      <td>3</td>\n",
       "      <td>0</td>\n",
       "      <td>SAFF Cup</td>\n",
       "      <td>Malé</td>\n",
       "      <td>Maldives</td>\n",
       "      <td>True</td>\n",
       "    </tr>\n",
       "    <tr>\n",
       "      <th>42898</th>\n",
       "      <td>2021-10-27</td>\n",
       "      <td>Mexico</td>\n",
       "      <td>Ecuador</td>\n",
       "      <td>2</td>\n",
       "      <td>3</td>\n",
       "      <td>Friendly</td>\n",
       "      <td>Charlotte</td>\n",
       "      <td>United States</td>\n",
       "      <td>True</td>\n",
       "    </tr>\n",
       "  </tbody>\n",
       "</table>\n",
       "<p>42899 rows × 9 columns</p>\n",
       "</div>"
      ],
      "text/plain": [
       "             date  home_team  away_team  home_score  away_score  \\\n",
       "0      1872-11-30   Scotland    England           0           0   \n",
       "1      1873-03-08    England   Scotland           4           2   \n",
       "2      1874-03-07   Scotland    England           2           1   \n",
       "3      1875-03-06    England   Scotland           2           2   \n",
       "4      1876-03-04   Scotland    England           3           0   \n",
       "...           ...        ...        ...         ...         ...   \n",
       "42894  2021-10-14  Argentina       Peru           1           0   \n",
       "42895  2021-10-14     Brazil    Uruguay           4           1   \n",
       "42896  2021-10-14      Chile  Venezuela           3           0   \n",
       "42897  2021-10-16      India      Nepal           3           0   \n",
       "42898  2021-10-27     Mexico    Ecuador           2           3   \n",
       "\n",
       "                         tournament          city        country  neutral  \n",
       "0                          Friendly       Glasgow       Scotland    False  \n",
       "1                          Friendly        London        England    False  \n",
       "2                          Friendly       Glasgow       Scotland    False  \n",
       "3                          Friendly        London        England    False  \n",
       "4                          Friendly       Glasgow       Scotland    False  \n",
       "...                             ...           ...            ...      ...  \n",
       "42894  FIFA World Cup qualification  Buenos Aires      Argentina    False  \n",
       "42895  FIFA World Cup qualification        Manaus         Brazil    False  \n",
       "42896  FIFA World Cup qualification      Santiago          Chile    False  \n",
       "42897                      SAFF Cup          Malé       Maldives     True  \n",
       "42898                      Friendly     Charlotte  United States     True  \n",
       "\n",
       "[42899 rows x 9 columns]"
      ]
     },
     "execution_count": 2,
     "metadata": {},
     "output_type": "execute_result"
    }
   ],
   "source": [
    "df = pd.read_csv('results.csv', index_col=None)\n",
    "df"
   ]
  },
  {
   "cell_type": "markdown",
   "id": "d13d5d5a",
   "metadata": {},
   "source": [
    "Created a list of all European countries, as needed to calculate the probability between Europe vs Non-Europe teams."
   ]
  },
  {
   "cell_type": "code",
   "execution_count": 3,
   "id": "9a90d331",
   "metadata": {},
   "outputs": [],
   "source": [
    "Europe = [\"Austria\",\"Italy\",\"Belgium\",\"Latvia\",\"Bulgaria\",\"Lithuania\",\"Croatia\",\"Luxembourg\",\"Cyprus\",\n",
    "          \"Malta\",\"Czechia\",\"Netherlands\",\"Denmark\",\"Poland\",\"Estonia\",\"Portugal\",\"Finland\",\"Romania\",\n",
    "          \"France\",\"Slovakia\",\"Germany\",\"Slovenia\",\"Greece\",\"Spain\",\"Hungary\",\"Sweden\",\"Ireland\"]"
   ]
  },
  {
   "cell_type": "markdown",
   "id": "4eee0ae2",
   "metadata": {},
   "source": [
    "### Exploratory Data Analysis\n"
   ]
  },
  {
   "cell_type": "code",
   "execution_count": 4,
   "id": "3bebee8f",
   "metadata": {},
   "outputs": [
    {
     "data": {
      "text/html": [
       "<div>\n",
       "<style scoped>\n",
       "    .dataframe tbody tr th:only-of-type {\n",
       "        vertical-align: middle;\n",
       "    }\n",
       "\n",
       "    .dataframe tbody tr th {\n",
       "        vertical-align: top;\n",
       "    }\n",
       "\n",
       "    .dataframe thead th {\n",
       "        text-align: right;\n",
       "    }\n",
       "</style>\n",
       "<table border=\"1\" class=\"dataframe\">\n",
       "  <thead>\n",
       "    <tr style=\"text-align: right;\">\n",
       "      <th></th>\n",
       "      <th>date</th>\n",
       "      <th>home_team</th>\n",
       "      <th>away_team</th>\n",
       "      <th>home_score</th>\n",
       "      <th>away_score</th>\n",
       "      <th>tournament</th>\n",
       "      <th>city</th>\n",
       "      <th>country</th>\n",
       "      <th>neutral</th>\n",
       "    </tr>\n",
       "  </thead>\n",
       "  <tbody>\n",
       "    <tr>\n",
       "      <th>0</th>\n",
       "      <td>1872-11-30</td>\n",
       "      <td>Scotland</td>\n",
       "      <td>England</td>\n",
       "      <td>0</td>\n",
       "      <td>0</td>\n",
       "      <td>Friendly</td>\n",
       "      <td>Glasgow</td>\n",
       "      <td>Scotland</td>\n",
       "      <td>False</td>\n",
       "    </tr>\n",
       "    <tr>\n",
       "      <th>1</th>\n",
       "      <td>1873-03-08</td>\n",
       "      <td>England</td>\n",
       "      <td>Scotland</td>\n",
       "      <td>4</td>\n",
       "      <td>2</td>\n",
       "      <td>Friendly</td>\n",
       "      <td>London</td>\n",
       "      <td>England</td>\n",
       "      <td>False</td>\n",
       "    </tr>\n",
       "    <tr>\n",
       "      <th>2</th>\n",
       "      <td>1874-03-07</td>\n",
       "      <td>Scotland</td>\n",
       "      <td>England</td>\n",
       "      <td>2</td>\n",
       "      <td>1</td>\n",
       "      <td>Friendly</td>\n",
       "      <td>Glasgow</td>\n",
       "      <td>Scotland</td>\n",
       "      <td>False</td>\n",
       "    </tr>\n",
       "    <tr>\n",
       "      <th>3</th>\n",
       "      <td>1875-03-06</td>\n",
       "      <td>England</td>\n",
       "      <td>Scotland</td>\n",
       "      <td>2</td>\n",
       "      <td>2</td>\n",
       "      <td>Friendly</td>\n",
       "      <td>London</td>\n",
       "      <td>England</td>\n",
       "      <td>False</td>\n",
       "    </tr>\n",
       "    <tr>\n",
       "      <th>4</th>\n",
       "      <td>1876-03-04</td>\n",
       "      <td>Scotland</td>\n",
       "      <td>England</td>\n",
       "      <td>3</td>\n",
       "      <td>0</td>\n",
       "      <td>Friendly</td>\n",
       "      <td>Glasgow</td>\n",
       "      <td>Scotland</td>\n",
       "      <td>False</td>\n",
       "    </tr>\n",
       "  </tbody>\n",
       "</table>\n",
       "</div>"
      ],
      "text/plain": [
       "         date home_team away_team  home_score  away_score tournament     city  \\\n",
       "0  1872-11-30  Scotland   England           0           0   Friendly  Glasgow   \n",
       "1  1873-03-08   England  Scotland           4           2   Friendly   London   \n",
       "2  1874-03-07  Scotland   England           2           1   Friendly  Glasgow   \n",
       "3  1875-03-06   England  Scotland           2           2   Friendly   London   \n",
       "4  1876-03-04  Scotland   England           3           0   Friendly  Glasgow   \n",
       "\n",
       "    country  neutral  \n",
       "0  Scotland    False  \n",
       "1   England    False  \n",
       "2  Scotland    False  \n",
       "3   England    False  \n",
       "4  Scotland    False  "
      ]
     },
     "execution_count": 4,
     "metadata": {},
     "output_type": "execute_result"
    }
   ],
   "source": [
    "df.head()"
   ]
  },
  {
   "cell_type": "code",
   "execution_count": 5,
   "id": "91cc92bd",
   "metadata": {},
   "outputs": [
    {
     "name": "stdout",
     "output_type": "stream",
     "text": [
      "<class 'pandas.core.frame.DataFrame'>\n",
      "RangeIndex: 42899 entries, 0 to 42898\n",
      "Data columns (total 9 columns):\n",
      " #   Column      Non-Null Count  Dtype \n",
      "---  ------      --------------  ----- \n",
      " 0   date        42899 non-null  object\n",
      " 1   home_team   42899 non-null  object\n",
      " 2   away_team   42899 non-null  object\n",
      " 3   home_score  42899 non-null  int64 \n",
      " 4   away_score  42899 non-null  int64 \n",
      " 5   tournament  42899 non-null  object\n",
      " 6   city        42899 non-null  object\n",
      " 7   country     42899 non-null  object\n",
      " 8   neutral     42899 non-null  bool  \n",
      "dtypes: bool(1), int64(2), object(6)\n",
      "memory usage: 2.7+ MB\n"
     ]
    }
   ],
   "source": [
    "df.info()"
   ]
  },
  {
   "cell_type": "code",
   "execution_count": 6,
   "id": "a5599802",
   "metadata": {},
   "outputs": [
    {
     "data": {
      "text/html": [
       "<div>\n",
       "<style scoped>\n",
       "    .dataframe tbody tr th:only-of-type {\n",
       "        vertical-align: middle;\n",
       "    }\n",
       "\n",
       "    .dataframe tbody tr th {\n",
       "        vertical-align: top;\n",
       "    }\n",
       "\n",
       "    .dataframe thead th {\n",
       "        text-align: right;\n",
       "    }\n",
       "</style>\n",
       "<table border=\"1\" class=\"dataframe\">\n",
       "  <thead>\n",
       "    <tr style=\"text-align: right;\">\n",
       "      <th></th>\n",
       "      <th>date</th>\n",
       "      <th>home_team</th>\n",
       "      <th>away_team</th>\n",
       "      <th>home_score</th>\n",
       "      <th>away_score</th>\n",
       "      <th>tournament</th>\n",
       "      <th>city</th>\n",
       "      <th>country</th>\n",
       "      <th>neutral</th>\n",
       "      <th>X-Mean</th>\n",
       "      <th>1.96 * std</th>\n",
       "      <th>Outliers_Home</th>\n",
       "      <th>Outliers_Away</th>\n",
       "      <th>home_teams</th>\n",
       "      <th>away_teams</th>\n",
       "    </tr>\n",
       "  </thead>\n",
       "  <tbody>\n",
       "    <tr>\n",
       "      <th>153</th>\n",
       "      <td>1903-04-05</td>\n",
       "      <td>Hungary</td>\n",
       "      <td>Czechoslovakia</td>\n",
       "      <td>2</td>\n",
       "      <td>1</td>\n",
       "      <td>Friendly</td>\n",
       "      <td>Budapest</td>\n",
       "      <td>Hungary</td>\n",
       "      <td>False</td>\n",
       "      <td>0.18427</td>\n",
       "      <td>2.746842</td>\n",
       "      <td>False</td>\n",
       "      <td>False</td>\n",
       "      <td>Europe</td>\n",
       "      <td>Non Europe</td>\n",
       "    </tr>\n",
       "    <tr>\n",
       "      <th>166</th>\n",
       "      <td>1905-02-12</td>\n",
       "      <td>France</td>\n",
       "      <td>Switzerland</td>\n",
       "      <td>1</td>\n",
       "      <td>0</td>\n",
       "      <td>Friendly</td>\n",
       "      <td>Paris</td>\n",
       "      <td>France</td>\n",
       "      <td>False</td>\n",
       "      <td>1.18427</td>\n",
       "      <td>2.746842</td>\n",
       "      <td>False</td>\n",
       "      <td>False</td>\n",
       "      <td>Europe</td>\n",
       "      <td>Non Europe</td>\n",
       "    </tr>\n",
       "    <tr>\n",
       "      <th>182</th>\n",
       "      <td>1906-04-01</td>\n",
       "      <td>Hungary</td>\n",
       "      <td>Czechoslovakia</td>\n",
       "      <td>1</td>\n",
       "      <td>1</td>\n",
       "      <td>Friendly</td>\n",
       "      <td>Budapest</td>\n",
       "      <td>Hungary</td>\n",
       "      <td>False</td>\n",
       "      <td>0.18427</td>\n",
       "      <td>2.746842</td>\n",
       "      <td>False</td>\n",
       "      <td>False</td>\n",
       "      <td>Europe</td>\n",
       "      <td>Non Europe</td>\n",
       "    </tr>\n",
       "    <tr>\n",
       "      <th>198</th>\n",
       "      <td>1907-04-07</td>\n",
       "      <td>Hungary</td>\n",
       "      <td>Czechoslovakia</td>\n",
       "      <td>5</td>\n",
       "      <td>2</td>\n",
       "      <td>Friendly</td>\n",
       "      <td>Budapest</td>\n",
       "      <td>Hungary</td>\n",
       "      <td>False</td>\n",
       "      <td>0.81573</td>\n",
       "      <td>2.746842</td>\n",
       "      <td>False</td>\n",
       "      <td>False</td>\n",
       "      <td>Europe</td>\n",
       "      <td>Non Europe</td>\n",
       "    </tr>\n",
       "    <tr>\n",
       "      <th>203</th>\n",
       "      <td>1907-10-06</td>\n",
       "      <td>Czechoslovakia</td>\n",
       "      <td>Hungary</td>\n",
       "      <td>5</td>\n",
       "      <td>3</td>\n",
       "      <td>Friendly</td>\n",
       "      <td>Prague</td>\n",
       "      <td>Bohemia</td>\n",
       "      <td>False</td>\n",
       "      <td>1.81573</td>\n",
       "      <td>2.746842</td>\n",
       "      <td>False</td>\n",
       "      <td>False</td>\n",
       "      <td>Non Europe</td>\n",
       "      <td>Europe</td>\n",
       "    </tr>\n",
       "    <tr>\n",
       "      <th>...</th>\n",
       "      <td>...</td>\n",
       "      <td>...</td>\n",
       "      <td>...</td>\n",
       "      <td>...</td>\n",
       "      <td>...</td>\n",
       "      <td>...</td>\n",
       "      <td>...</td>\n",
       "      <td>...</td>\n",
       "      <td>...</td>\n",
       "      <td>...</td>\n",
       "      <td>...</td>\n",
       "      <td>...</td>\n",
       "      <td>...</td>\n",
       "      <td>...</td>\n",
       "      <td>...</td>\n",
       "    </tr>\n",
       "    <tr>\n",
       "      <th>42848</th>\n",
       "      <td>2021-10-11</td>\n",
       "      <td>Romania</td>\n",
       "      <td>Armenia</td>\n",
       "      <td>1</td>\n",
       "      <td>0</td>\n",
       "      <td>FIFA World Cup qualification</td>\n",
       "      <td>Bucharest</td>\n",
       "      <td>Romania</td>\n",
       "      <td>False</td>\n",
       "      <td>1.18427</td>\n",
       "      <td>2.746842</td>\n",
       "      <td>False</td>\n",
       "      <td>False</td>\n",
       "      <td>Europe</td>\n",
       "      <td>Non Europe</td>\n",
       "    </tr>\n",
       "    <tr>\n",
       "      <th>42865</th>\n",
       "      <td>2021-10-12</td>\n",
       "      <td>Bulgaria</td>\n",
       "      <td>Northern Ireland</td>\n",
       "      <td>2</td>\n",
       "      <td>1</td>\n",
       "      <td>FIFA World Cup qualification</td>\n",
       "      <td>Sofia</td>\n",
       "      <td>Bulgaria</td>\n",
       "      <td>False</td>\n",
       "      <td>0.18427</td>\n",
       "      <td>2.746842</td>\n",
       "      <td>False</td>\n",
       "      <td>False</td>\n",
       "      <td>Europe</td>\n",
       "      <td>Non Europe</td>\n",
       "    </tr>\n",
       "    <tr>\n",
       "      <th>42867</th>\n",
       "      <td>2021-10-12</td>\n",
       "      <td>Kazakhstan</td>\n",
       "      <td>Finland</td>\n",
       "      <td>0</td>\n",
       "      <td>2</td>\n",
       "      <td>FIFA World Cup qualification</td>\n",
       "      <td>Nur-Sultan</td>\n",
       "      <td>Kazakhstan</td>\n",
       "      <td>False</td>\n",
       "      <td>0.81573</td>\n",
       "      <td>2.746842</td>\n",
       "      <td>False</td>\n",
       "      <td>False</td>\n",
       "      <td>Non Europe</td>\n",
       "      <td>Europe</td>\n",
       "    </tr>\n",
       "    <tr>\n",
       "      <th>42872</th>\n",
       "      <td>2021-10-12</td>\n",
       "      <td>England</td>\n",
       "      <td>Hungary</td>\n",
       "      <td>1</td>\n",
       "      <td>1</td>\n",
       "      <td>FIFA World Cup qualification</td>\n",
       "      <td>London</td>\n",
       "      <td>England</td>\n",
       "      <td>False</td>\n",
       "      <td>0.18427</td>\n",
       "      <td>2.746842</td>\n",
       "      <td>False</td>\n",
       "      <td>False</td>\n",
       "      <td>Non Europe</td>\n",
       "      <td>Europe</td>\n",
       "    </tr>\n",
       "    <tr>\n",
       "      <th>42873</th>\n",
       "      <td>2021-10-12</td>\n",
       "      <td>Albania</td>\n",
       "      <td>Poland</td>\n",
       "      <td>0</td>\n",
       "      <td>1</td>\n",
       "      <td>FIFA World Cup qualification</td>\n",
       "      <td>Tirana</td>\n",
       "      <td>Albania</td>\n",
       "      <td>False</td>\n",
       "      <td>0.18427</td>\n",
       "      <td>2.746842</td>\n",
       "      <td>False</td>\n",
       "      <td>False</td>\n",
       "      <td>Non Europe</td>\n",
       "      <td>Europe</td>\n",
       "    </tr>\n",
       "  </tbody>\n",
       "</table>\n",
       "<p>7106 rows × 15 columns</p>\n",
       "</div>"
      ],
      "text/plain": [
       "             date       home_team         away_team  home_score  away_score  \\\n",
       "153    1903-04-05         Hungary    Czechoslovakia           2           1   \n",
       "166    1905-02-12          France       Switzerland           1           0   \n",
       "182    1906-04-01         Hungary    Czechoslovakia           1           1   \n",
       "198    1907-04-07         Hungary    Czechoslovakia           5           2   \n",
       "203    1907-10-06  Czechoslovakia           Hungary           5           3   \n",
       "...           ...             ...               ...         ...         ...   \n",
       "42848  2021-10-11         Romania           Armenia           1           0   \n",
       "42865  2021-10-12        Bulgaria  Northern Ireland           2           1   \n",
       "42867  2021-10-12      Kazakhstan           Finland           0           2   \n",
       "42872  2021-10-12         England           Hungary           1           1   \n",
       "42873  2021-10-12         Albania            Poland           0           1   \n",
       "\n",
       "                         tournament        city     country  neutral   X-Mean  \\\n",
       "153                        Friendly    Budapest     Hungary    False  0.18427   \n",
       "166                        Friendly       Paris      France    False  1.18427   \n",
       "182                        Friendly    Budapest     Hungary    False  0.18427   \n",
       "198                        Friendly    Budapest     Hungary    False  0.81573   \n",
       "203                        Friendly      Prague     Bohemia    False  1.81573   \n",
       "...                             ...         ...         ...      ...      ...   \n",
       "42848  FIFA World Cup qualification   Bucharest     Romania    False  1.18427   \n",
       "42865  FIFA World Cup qualification       Sofia    Bulgaria    False  0.18427   \n",
       "42867  FIFA World Cup qualification  Nur-Sultan  Kazakhstan    False  0.81573   \n",
       "42872  FIFA World Cup qualification      London     England    False  0.18427   \n",
       "42873  FIFA World Cup qualification      Tirana     Albania    False  0.18427   \n",
       "\n",
       "       1.96 * std  Outliers_Home  Outliers_Away  home_teams  away_teams  \n",
       "153      2.746842          False          False      Europe  Non Europe  \n",
       "166      2.746842          False          False      Europe  Non Europe  \n",
       "182      2.746842          False          False      Europe  Non Europe  \n",
       "198      2.746842          False          False      Europe  Non Europe  \n",
       "203      2.746842          False          False  Non Europe      Europe  \n",
       "...           ...            ...            ...         ...         ...  \n",
       "42848    2.746842          False          False      Europe  Non Europe  \n",
       "42865    2.746842          False          False      Europe  Non Europe  \n",
       "42867    2.746842          False          False  Non Europe      Europe  \n",
       "42872    2.746842          False          False  Non Europe      Europe  \n",
       "42873    2.746842          False          False  Non Europe      Europe  \n",
       "\n",
       "[7106 rows x 15 columns]"
      ]
     },
     "execution_count": 6,
     "metadata": {},
     "output_type": "execute_result"
    }
   ],
   "source": [
    "newdf = df.copy()\n",
    "newdf['X-Mean'] = abs(newdf['home_score'] - newdf['home_score'].mean())\n",
    "newdf['1.96 * std'] = 1.96 * newdf['home_score'].std()\n",
    "newdf['Outliers_Home'] = newdf['X-Mean'] > newdf['1.96 * std']\n",
    "newdf['X-Mean'] = abs(newdf['away_score'] - newdf['away_score'].mean())\n",
    "newdf['1.96 * std'] = 1.96 * newdf['away_score'].std()\n",
    "newdf['Outliers_Away'] = newdf['X-Mean'] > newdf['1.96 * std']\n",
    "newdf = newdf.loc[(newdf['Outliers_Home'] == False) & (newdf['Outliers_Away'] == False)]\n",
    "\n",
    "home = list(map(lambda x : 'Europe' if(x[1] in Europe) else 'Non Europe', newdf.values))\n",
    "away = list(map(lambda x : 'Europe' if(x[2] in Europe) else 'Non Europe', newdf.values))\n",
    "\n",
    "newdf['home_teams'] = home\n",
    "newdf['away_teams'] = away\n",
    "\n",
    "newdf = newdf.loc[((newdf['home_teams'] == 'Europe') & (newdf['away_teams'] == 'Non Europe')) |((newdf['home_teams'] == 'Non Europe') & (newdf['away_teams'] == 'Europe'))]\n",
    "newdf"
   ]
  },
  {
   "cell_type": "markdown",
   "id": "156c7058",
   "metadata": {},
   "source": [
    "### Data Cleaning\n",
    "Performing data cleansing operations and keeping only required data. "
   ]
  },
  {
   "cell_type": "code",
   "execution_count": 7,
   "id": "b543c8c9",
   "metadata": {},
   "outputs": [
    {
     "data": {
      "text/html": [
       "<div>\n",
       "<style scoped>\n",
       "    .dataframe tbody tr th:only-of-type {\n",
       "        vertical-align: middle;\n",
       "    }\n",
       "\n",
       "    .dataframe tbody tr th {\n",
       "        vertical-align: top;\n",
       "    }\n",
       "\n",
       "    .dataframe thead th {\n",
       "        text-align: right;\n",
       "    }\n",
       "</style>\n",
       "<table border=\"1\" class=\"dataframe\">\n",
       "  <thead>\n",
       "    <tr style=\"text-align: right;\">\n",
       "      <th></th>\n",
       "      <th>home_teams</th>\n",
       "      <th>away_teams</th>\n",
       "      <th>EU_Goals</th>\n",
       "      <th>NonEU_Goals</th>\n",
       "      <th>scoreDiffrence</th>\n",
       "    </tr>\n",
       "  </thead>\n",
       "  <tbody>\n",
       "    <tr>\n",
       "      <th>153</th>\n",
       "      <td>Europe</td>\n",
       "      <td>Non Europe</td>\n",
       "      <td>2</td>\n",
       "      <td>1</td>\n",
       "      <td>1</td>\n",
       "    </tr>\n",
       "    <tr>\n",
       "      <th>166</th>\n",
       "      <td>Europe</td>\n",
       "      <td>Non Europe</td>\n",
       "      <td>1</td>\n",
       "      <td>0</td>\n",
       "      <td>1</td>\n",
       "    </tr>\n",
       "    <tr>\n",
       "      <th>182</th>\n",
       "      <td>Europe</td>\n",
       "      <td>Non Europe</td>\n",
       "      <td>1</td>\n",
       "      <td>1</td>\n",
       "      <td>0</td>\n",
       "    </tr>\n",
       "    <tr>\n",
       "      <th>198</th>\n",
       "      <td>Europe</td>\n",
       "      <td>Non Europe</td>\n",
       "      <td>5</td>\n",
       "      <td>2</td>\n",
       "      <td>3</td>\n",
       "    </tr>\n",
       "    <tr>\n",
       "      <th>203</th>\n",
       "      <td>Non Europe</td>\n",
       "      <td>Europe</td>\n",
       "      <td>3</td>\n",
       "      <td>5</td>\n",
       "      <td>-2</td>\n",
       "    </tr>\n",
       "    <tr>\n",
       "      <th>...</th>\n",
       "      <td>...</td>\n",
       "      <td>...</td>\n",
       "      <td>...</td>\n",
       "      <td>...</td>\n",
       "      <td>...</td>\n",
       "    </tr>\n",
       "    <tr>\n",
       "      <th>42848</th>\n",
       "      <td>Europe</td>\n",
       "      <td>Non Europe</td>\n",
       "      <td>1</td>\n",
       "      <td>0</td>\n",
       "      <td>1</td>\n",
       "    </tr>\n",
       "    <tr>\n",
       "      <th>42865</th>\n",
       "      <td>Europe</td>\n",
       "      <td>Non Europe</td>\n",
       "      <td>2</td>\n",
       "      <td>1</td>\n",
       "      <td>1</td>\n",
       "    </tr>\n",
       "    <tr>\n",
       "      <th>42867</th>\n",
       "      <td>Non Europe</td>\n",
       "      <td>Europe</td>\n",
       "      <td>2</td>\n",
       "      <td>0</td>\n",
       "      <td>2</td>\n",
       "    </tr>\n",
       "    <tr>\n",
       "      <th>42872</th>\n",
       "      <td>Non Europe</td>\n",
       "      <td>Europe</td>\n",
       "      <td>1</td>\n",
       "      <td>1</td>\n",
       "      <td>0</td>\n",
       "    </tr>\n",
       "    <tr>\n",
       "      <th>42873</th>\n",
       "      <td>Non Europe</td>\n",
       "      <td>Europe</td>\n",
       "      <td>1</td>\n",
       "      <td>0</td>\n",
       "      <td>1</td>\n",
       "    </tr>\n",
       "  </tbody>\n",
       "</table>\n",
       "<p>7106 rows × 5 columns</p>\n",
       "</div>"
      ],
      "text/plain": [
       "       home_teams  away_teams  EU_Goals  NonEU_Goals  scoreDiffrence\n",
       "153        Europe  Non Europe         2            1               1\n",
       "166        Europe  Non Europe         1            0               1\n",
       "182        Europe  Non Europe         1            1               0\n",
       "198        Europe  Non Europe         5            2               3\n",
       "203    Non Europe      Europe         3            5              -2\n",
       "...           ...         ...       ...          ...             ...\n",
       "42848      Europe  Non Europe         1            0               1\n",
       "42865      Europe  Non Europe         2            1               1\n",
       "42867  Non Europe      Europe         2            0               2\n",
       "42872  Non Europe      Europe         1            1               0\n",
       "42873  Non Europe      Europe         1            0               1\n",
       "\n",
       "[7106 rows x 5 columns]"
      ]
     },
     "execution_count": 7,
     "metadata": {},
     "output_type": "execute_result"
    }
   ],
   "source": [
    "drop_columns = ['date', 'tournament', 'city', 'country', 'neutral','X-Mean', '1.96 * std','Outliers_Home','Outliers_Away']\n",
    "\n",
    "newdf.drop(drop_columns, axis=1, inplace=True)\n",
    "\n",
    "europScore = []\n",
    "nonEuropScore = []\n",
    "\n",
    "for x in newdf.values:\n",
    "    if(x[-2] == 'Europe'):\n",
    "       europScore.append(x[2])\n",
    "    if(x[-1] == 'Europe'):\n",
    "       europScore.append(x[3])\n",
    "    if(x[-1] == 'Non Europe'):\n",
    "       nonEuropScore.append(x[3])\n",
    "    if(x[-2] == 'Non Europe'):\n",
    "       nonEuropScore.append(x[2])\n",
    "\n",
    "drop_columns = ['home_team', 'away_team', 'home_score', 'away_score']\n",
    "newdf.drop(drop_columns, axis=1, inplace=True)\n",
    "\n",
    "newdf['EU_Goals'] = europScore\n",
    "newdf['NonEU_Goals'] = nonEuropScore\n",
    "newdf['scoreDiffrence'] = newdf['EU_Goals'] - newdf['NonEU_Goals']\n",
    "newdf"
   ]
  },
  {
   "cell_type": "code",
   "execution_count": 8,
   "id": "687571ef",
   "metadata": {},
   "outputs": [
    {
     "data": {
      "text/html": [
       "<div>\n",
       "<style scoped>\n",
       "    .dataframe tbody tr th:only-of-type {\n",
       "        vertical-align: middle;\n",
       "    }\n",
       "\n",
       "    .dataframe tbody tr th {\n",
       "        vertical-align: top;\n",
       "    }\n",
       "\n",
       "    .dataframe thead th {\n",
       "        text-align: right;\n",
       "    }\n",
       "</style>\n",
       "<table border=\"1\" class=\"dataframe\">\n",
       "  <thead>\n",
       "    <tr style=\"text-align: right;\">\n",
       "      <th></th>\n",
       "      <th>EU_Goals</th>\n",
       "      <th>NonEU_Goals</th>\n",
       "      <th>scoreDiffrence</th>\n",
       "    </tr>\n",
       "  </thead>\n",
       "  <tbody>\n",
       "    <tr>\n",
       "      <th>153</th>\n",
       "      <td>2</td>\n",
       "      <td>1</td>\n",
       "      <td>1</td>\n",
       "    </tr>\n",
       "    <tr>\n",
       "      <th>166</th>\n",
       "      <td>1</td>\n",
       "      <td>0</td>\n",
       "      <td>1</td>\n",
       "    </tr>\n",
       "    <tr>\n",
       "      <th>182</th>\n",
       "      <td>1</td>\n",
       "      <td>1</td>\n",
       "      <td>0</td>\n",
       "    </tr>\n",
       "    <tr>\n",
       "      <th>198</th>\n",
       "      <td>5</td>\n",
       "      <td>2</td>\n",
       "      <td>3</td>\n",
       "    </tr>\n",
       "    <tr>\n",
       "      <th>203</th>\n",
       "      <td>3</td>\n",
       "      <td>5</td>\n",
       "      <td>-2</td>\n",
       "    </tr>\n",
       "    <tr>\n",
       "      <th>...</th>\n",
       "      <td>...</td>\n",
       "      <td>...</td>\n",
       "      <td>...</td>\n",
       "    </tr>\n",
       "    <tr>\n",
       "      <th>42848</th>\n",
       "      <td>1</td>\n",
       "      <td>0</td>\n",
       "      <td>1</td>\n",
       "    </tr>\n",
       "    <tr>\n",
       "      <th>42865</th>\n",
       "      <td>2</td>\n",
       "      <td>1</td>\n",
       "      <td>1</td>\n",
       "    </tr>\n",
       "    <tr>\n",
       "      <th>42867</th>\n",
       "      <td>2</td>\n",
       "      <td>0</td>\n",
       "      <td>2</td>\n",
       "    </tr>\n",
       "    <tr>\n",
       "      <th>42872</th>\n",
       "      <td>1</td>\n",
       "      <td>1</td>\n",
       "      <td>0</td>\n",
       "    </tr>\n",
       "    <tr>\n",
       "      <th>42873</th>\n",
       "      <td>1</td>\n",
       "      <td>0</td>\n",
       "      <td>1</td>\n",
       "    </tr>\n",
       "  </tbody>\n",
       "</table>\n",
       "<p>7106 rows × 3 columns</p>\n",
       "</div>"
      ],
      "text/plain": [
       "       EU_Goals  NonEU_Goals  scoreDiffrence\n",
       "153           2            1               1\n",
       "166           1            0               1\n",
       "182           1            1               0\n",
       "198           5            2               3\n",
       "203           3            5              -2\n",
       "...         ...          ...             ...\n",
       "42848         1            0               1\n",
       "42865         2            1               1\n",
       "42867         2            0               2\n",
       "42872         1            1               0\n",
       "42873         1            0               1\n",
       "\n",
       "[7106 rows x 3 columns]"
      ]
     },
     "execution_count": 8,
     "metadata": {},
     "output_type": "execute_result"
    }
   ],
   "source": [
    "plotdf = newdf.copy()\n",
    "drop_columns = ['home_teams', 'away_teams']\n",
    "\n",
    "plotdf.drop(drop_columns, axis=1, inplace=True)\n",
    "plotdf"
   ]
  },
  {
   "cell_type": "markdown",
   "id": "e4823349",
   "metadata": {},
   "source": [
    "Calculating the mean of Europe goals, Non-Europe goals, and difference score. As only mean is required for Skellam Distribution."
   ]
  },
  {
   "cell_type": "code",
   "execution_count": 9,
   "id": "9f2ab668",
   "metadata": {},
   "outputs": [
    {
     "data": {
      "text/plain": [
       "EU_Goals          1.413313\n",
       "NonEU_Goals       1.159302\n",
       "scoreDiffrence    0.254011\n",
       "dtype: float64"
      ]
     },
     "execution_count": 9,
     "metadata": {},
     "output_type": "execute_result"
    }
   ],
   "source": [
    "means = plotdf.mean()\n",
    "means"
   ]
  },
  {
   "cell_type": "markdown",
   "id": "b5a4bf98",
   "metadata": {},
   "source": [
    "### Poisson\n",
    "Plotted histogram of European Goal data by poisson."
   ]
  },
  {
   "cell_type": "code",
   "execution_count": 10,
   "id": "a5c9f19d",
   "metadata": {},
   "outputs": [
    {
     "ename": "ModuleNotFoundError",
     "evalue": "No module named 'pymc3'",
     "output_type": "error",
     "traceback": [
      "\u001b[0;31m---------------------------------------------------------------------------\u001b[0m",
      "\u001b[0;31mModuleNotFoundError\u001b[0m                       Traceback (most recent call last)",
      "\u001b[0;32m/var/folders/tn/10m5c4fs5fxf5dp589ym8whc0000gn/T/ipykernel_11279/2567941158.py\u001b[0m in \u001b[0;36m<module>\u001b[0;34m\u001b[0m\n\u001b[0;32m----> 1\u001b[0;31m \u001b[0;32mfrom\u001b[0m \u001b[0mpymc3\u001b[0m \u001b[0;32mimport\u001b[0m \u001b[0mPoisson\u001b[0m\u001b[0;34m\u001b[0m\u001b[0;34m\u001b[0m\u001b[0m\n\u001b[0m\u001b[1;32m      2\u001b[0m \u001b[0mx\u001b[0m \u001b[0;34m=\u001b[0m \u001b[0mPoisson\u001b[0m\u001b[0;34m.\u001b[0m\u001b[0mdist\u001b[0m\u001b[0;34m(\u001b[0m\u001b[0mmu\u001b[0m\u001b[0;34m=\u001b[0m\u001b[0mnewdf\u001b[0m\u001b[0;34m.\u001b[0m\u001b[0mmean\u001b[0m\u001b[0;34m(\u001b[0m\u001b[0;34m)\u001b[0m\u001b[0;34m.\u001b[0m\u001b[0mEU_Goals\u001b[0m\u001b[0;34m)\u001b[0m\u001b[0;34m\u001b[0m\u001b[0;34m\u001b[0m\u001b[0m\n\u001b[1;32m      3\u001b[0m \u001b[0msamples\u001b[0m \u001b[0;34m=\u001b[0m \u001b[0mx\u001b[0m\u001b[0;34m.\u001b[0m\u001b[0mrandom\u001b[0m\u001b[0;34m(\u001b[0m\u001b[0msize\u001b[0m\u001b[0;34m=\u001b[0m\u001b[0mlen\u001b[0m\u001b[0;34m(\u001b[0m\u001b[0mnewdf\u001b[0m\u001b[0;34m.\u001b[0m\u001b[0mEU_Goals\u001b[0m\u001b[0;34m)\u001b[0m\u001b[0;34m)\u001b[0m\u001b[0;34m\u001b[0m\u001b[0;34m\u001b[0m\u001b[0m\n\u001b[1;32m      4\u001b[0m \u001b[0mplt\u001b[0m\u001b[0;34m.\u001b[0m\u001b[0mhist\u001b[0m\u001b[0;34m(\u001b[0m\u001b[0msamples\u001b[0m\u001b[0;34m,\u001b[0m \u001b[0mbins\u001b[0m\u001b[0;34m=\u001b[0m\u001b[0mlen\u001b[0m\u001b[0;34m(\u001b[0m\u001b[0mset\u001b[0m\u001b[0;34m(\u001b[0m\u001b[0msamples\u001b[0m\u001b[0;34m)\u001b[0m\u001b[0;34m)\u001b[0m\u001b[0;34m)\u001b[0m\u001b[0;34m;\u001b[0m\u001b[0;34m\u001b[0m\u001b[0;34m\u001b[0m\u001b[0m\n",
      "\u001b[0;31mModuleNotFoundError\u001b[0m: No module named 'pymc3'"
     ]
    }
   ],
   "source": [
    "from pymc3 import Poisson\n",
    "x = Poisson.dist(mu=newdf.mean().EU_Goals)\n",
    "samples = x.random(size=len(newdf.EU_Goals))\n",
    "plt.hist(samples, bins=len(set(samples)));"
   ]
  },
  {
   "cell_type": "markdown",
   "id": "03a80d21",
   "metadata": {},
   "source": [
    "Plotted histogram of Non-European Goal data by poisson."
   ]
  },
  {
   "cell_type": "code",
   "execution_count": 11,
   "id": "f5344b74",
   "metadata": {},
   "outputs": [
    {
     "data": {
      "image/png": "[encoded data removed]",
      "text/plain": [
       "<Figure size 432x288 with 1 Axes>"
      ]
     },
     "metadata": {
      "needs_background": "light"
     },
     "output_type": "display_data"
    }
   ],
   "source": [
    "from pymc3 import Poisson\n",
    "x = Poisson.dist(mu=newdf.mean().NonEU_Goals)\n",
    "samples = x.random(size=len(newdf.NonEU_Goals))\n",
    "plt.hist(samples, bins=len(set(samples)));"
   ]
  },
  {
   "cell_type": "markdown",
   "id": "f6ae6514",
   "metadata": {},
   "source": [
    "### Skellam Distribution\n",
    "The Skellam distribution is the discrete probability distribution of the difference of two statistically independent random variables N1 and N2, each Poisson-distributed with respective expected values mu1 and mu2.\n",
    "\n",
    "For our data mu1 is the mean of the EU_Goals and mu2 is the NonEU_Goals"
   ]
  },
  {
   "cell_type": "code",
   "execution_count": 12,
   "id": "a34b9bd0",
   "metadata": {},
   "outputs": [],
   "source": [
    "from scipy.stats import skellam\n",
    "import seaborn as sns\n",
    "\n",
    "mu1, mu2 = means[0], means[1]"
   ]
  },
  {
   "cell_type": "markdown",
   "id": "a25dfc5e",
   "metadata": {},
   "source": [
    "Display the probability mass function (pmf) and the distribution object can be called (as a function) to fix the shape and location. This returns a “frozen” RV object holding the given parameters fixed.\n",
    "Freeze the distribution and display the frozen pmf."
   ]
  },
  {
   "cell_type": "code",
   "execution_count": 13,
   "id": "d83dd2c8",
   "metadata": {},
   "outputs": [
    {
     "data": {
      "image/png": "[encoded data removed]",
      "text/plain": [
       "<Figure size 432x288 with 1 Axes>"
      ]
     },
     "metadata": {
      "needs_background": "light"
     },
     "output_type": "display_data"
    }
   ],
   "source": [
    "fig, ax = plt.subplots(1, 1)\n",
    "x = np.arange(skellam.ppf(0.01, mu1, mu2),\n",
    "              skellam.ppf(0.99, mu1, mu2))\n",
    "ax.plot(x, skellam.pmf(x, mu1, mu2), 'bo', ms=5, label='Skellam PMF')\n",
    "ax.vlines(x, 0, skellam.pmf(x, mu1, mu2), colors='y', lw=5, alpha=0.5)\n",
    "rv = skellam(mu1, mu2)\n",
    "ax.vlines(x, 0, rv.pmf(x), colors='r', linestyles='-', lw=3,label='Frozen PMF')\n",
    "ax.legend(loc='best', frameon=False)\n",
    "plt.show() "
   ]
  },
  {
   "cell_type": "markdown",
   "id": "32bd3e08",
   "metadata": {},
   "source": [
    "Checking accuracy of cdf and ppf"
   ]
  },
  {
   "cell_type": "code",
   "execution_count": 14,
   "id": "cbcdc01c",
   "metadata": {},
   "outputs": [
    {
     "data": {
      "text/plain": [
       "True"
      ]
     },
     "execution_count": 14,
     "metadata": {},
     "output_type": "execute_result"
    }
   ],
   "source": [
    "prob = skellam.cdf(x, mu1, mu2)\n",
    "np.allclose(x, skellam.ppf(prob, mu1, mu2))"
   ]
  },
  {
   "cell_type": "markdown",
   "id": "51a412c4",
   "metadata": {},
   "source": [
    "### Method of Moments"
   ]
  },
  {
   "cell_type": "code",
   "execution_count": 15,
   "id": "c45f2f7e",
   "metadata": {},
   "outputs": [
    {
     "data": {
      "text/plain": [
       "[<matplotlib.lines.Line2D at 0x7faa380d3e50>]"
      ]
     },
     "execution_count": 15,
     "metadata": {},
     "output_type": "execute_result"
    },
    {
     "data": {
      "image/png": "[encoded data removed]",
      "text/plain": [
       "<Figure size 432x288 with 1 Axes>"
      ]
     },
     "metadata": {
      "needs_background": "light"
     },
     "output_type": "display_data"
    }
   ],
   "source": [
    "x = np.arange(skellam.ppf(0.01, mu1, mu2),\n",
    "              skellam.ppf(0.99, mu1, mu2))\n",
    "plotdf.scoreDiffrence.hist(density=True, bins=20)\n",
    "plt.plot(np.linspace(-5, 5, 8), skellam.pmf(x, mu1, mu2))"
   ]
  },
  {
   "cell_type": "markdown",
   "id": "c58a2867",
   "metadata": {},
   "source": [
    "## Probability of a draw between a european team and a non-european team"
   ]
  },
  {
   "cell_type": "code",
   "execution_count": 16,
   "id": "dfd8c168",
   "metadata": {},
   "outputs": [
    {
     "data": {
      "text/plain": [
       "0.2629872751227682"
      ]
     },
     "execution_count": 16,
     "metadata": {},
     "output_type": "execute_result"
    }
   ],
   "source": [
    "skellam.pmf(0, mu1, mu2)"
   ]
  },
  {
   "cell_type": "markdown",
   "id": "89786324",
   "metadata": {},
   "source": [
    "### Bayesian Modeling Methodology"
   ]
  },
  {
   "cell_type": "code",
   "execution_count": 17,
   "id": "ac7a5153",
   "metadata": {},
   "outputs": [
    {
     "name": "stdout",
     "output_type": "stream",
     "text": [
      "Model Accuracy is: 65.40084388185655 %\n"
     ]
    }
   ],
   "source": [
    "from sklearn.model_selection import train_test_split\n",
    "from sklearn.naive_bayes import GaussianNB\n",
    "from sklearn.metrics import accuracy_score\n",
    "\n",
    "X = newdf.drop([\"home_teams\", \"away_teams\", \"scoreDiffrence\"], axis=1)\n",
    "y = newdf[\"scoreDiffrence\"]\n",
    "X_train, X_test, y_train, y_test = train_test_split(X, y, test_size=0.1, random_state=0)\n",
    "gnb = GaussianNB()\n",
    "gnb_fit= gnb.fit(X_train, y_train)\n",
    "y_pred = gnb_fit.predict(X_test)\n",
    "percentage = accuracy_score(y_test, y_pred)\n",
    "\n",
    "print(\"Model Accuracy is:\", percentage * 100, \"%\")"
   ]
  },
  {
   "cell_type": "markdown",
   "id": "a8526d12",
   "metadata": {},
   "source": [
    "## Tried using pymc3 approach (Alternative)\n",
    "Refered prof. notebook"
   ]
  },
  {
   "cell_type": "code",
   "execution_count": 18,
   "id": "97063e93",
   "metadata": {},
   "outputs": [],
   "source": [
    "import numpy as np\n",
    "import pymc3\n",
    "import theano\n",
    "import pandas\n",
    "import scipy.stats\n",
    "\n",
    "import matplotlib.pyplot as plt\n",
    "import seaborn as sns\n",
    "\n",
    "%matplotlib inline"
   ]
  },
  {
   "cell_type": "code",
   "execution_count": 19,
   "id": "c3bf5c43",
   "metadata": {},
   "outputs": [],
   "source": [
    "N = 1\n",
    "X = pandas.DataFrame({'constant':np.ones(N), 'var':np.random.normal(size=N)})\n",
    "beta_true = pandas.Series({'constant':25, 'var':20})\n",
    "#mu_true = np.dot(X, beta_true)\n",
    "#var_true = 120\n",
    "\n",
    "# mu = m1-m2\n",
    "# var = m1+m2\n",
    "\n",
    "#mu1_true = (var_true + mu_true)/2\n",
    "#mu2_true = (var_true - mu_true)/2\n",
    "\n",
    "Y = scipy.stats.skellam.rvs(mu1, mu2)"
   ]
  },
  {
   "cell_type": "code",
   "execution_count": 20,
   "id": "28e28b4a",
   "metadata": {},
   "outputs": [
    {
     "name": "stderr",
     "output_type": "stream",
     "text": [
      "/Users/sushrutmujumdar/opt/anaconda3/lib/python3.8/site-packages/seaborn/distributions.py:2557: FutureWarning: `distplot` is a deprecated function and will be removed in a future version. Please adapt your code to use either `displot` (a figure-level function with similar flexibility) or `histplot` (an axes-level function for histograms).\n",
      "  warnings.warn(msg, FutureWarning)\n",
      "/Users/sushrutmujumdar/opt/anaconda3/lib/python3.8/site-packages/seaborn/distributions.py:306: UserWarning: Dataset has 0 variance; skipping density estimate.\n",
      "  warnings.warn(msg, UserWarning)\n"
     ]
    },
    {
     "data": {
      "image/png": "[encoded data removed]",
      "text/plain": [
       "<Figure size 432x288 with 1 Axes>"
      ]
     },
     "metadata": {
      "needs_background": "light"
     },
     "output_type": "display_data"
    }
   ],
   "source": [
    "sns.distplot(Y);"
   ]
  },
  {
   "cell_type": "code",
   "execution_count": 21,
   "id": "b0393069",
   "metadata": {},
   "outputs": [
    {
     "data": {
      "image/png": "[encoded data removed]",
      "text/plain": [
       "<Figure size 432x288 with 1 Axes>"
      ]
     },
     "metadata": {
      "needs_background": "light"
     },
     "output_type": "display_data"
    }
   ],
   "source": [
    "plt.plot(X['var'], Y, '.');"
   ]
  },
  {
   "cell_type": "code",
   "execution_count": 22,
   "id": "fa6dc4c9",
   "metadata": {},
   "outputs": [],
   "source": [
    "# copied from theano master branch\n",
    "\n",
    "from __future__ import absolute_import, print_function, division\n",
    "# Definitions of theano.scalar ops that have their python implementation taken\n",
    "# from SciPy. As SciPy is not always available, we treat them separately.\n",
    "\n",
    "import numpy as np\n",
    "\n",
    "import theano\n",
    "from theano.gradient import grad_not_implemented\n",
    "from theano.scalar.basic import (UnaryScalarOp, BinaryScalarOp,\n",
    "                                 exp, upgrade_to_float,\n",
    "                                 upgrade_to_float64,\n",
    "                                 float_types)\n",
    "from theano.scalar.basic import (upgrade_to_float_no_complex,\n",
    "                                 complex_types, discrete_types,\n",
    "                                 upcast)\n",
    "\n",
    "imported_scipy_special = False\n",
    "try:\n",
    "    import scipy.special\n",
    "    import scipy.stats\n",
    "    imported_scipy_special = True\n",
    "# Importing scipy.special may raise ValueError.\n",
    "# See http://projects.scipy.org/scipy/ticket/1739\n",
    "except (ImportError, ValueError):\n",
    "    pass\n",
    "\n",
    "class Iv(BinaryScalarOp):\n",
    "    \"\"\"\n",
    "    Modified Bessel function of the first kind of order v (real).\n",
    "    \"\"\"\n",
    "\n",
    "    @staticmethod\n",
    "    def st_impl(v, x):\n",
    "        return scipy.special.iv(v, x)\n",
    "\n",
    "    def impl(self, v, x):\n",
    "        if imported_scipy_special:\n",
    "            return self.st_impl(v, x)\n",
    "        else:\n",
    "            super(Iv, self).impl(v, x)\n",
    "\n",
    "    def grad(self, inputs, grads):\n",
    "        v, x = inputs\n",
    "        gz, = grads\n",
    "        return [grad_not_implemented(self, 0, v),\n",
    "                gz * (iv(v - 1, x) + iv(v + 1, x)) / 2.]\n",
    "\n",
    "iv = Iv(upgrade_to_float, name='iv')\n",
    "\n",
    "# added:\n",
    "iv_tensor = theano.tensor.elemwise.Elemwise(iv)"
   ]
  },
  {
   "cell_type": "code",
   "execution_count": null,
   "id": "9e2581f9",
   "metadata": {},
   "outputs": [],
   "source": [
    "# use class, because nested function cannot be pickled\n",
    "class skellam_log:\n",
    "    def __init__(self, mu1, mu2):\n",
    "        self.mu1 = mu1\n",
    "        self.mu2 = mu2\n",
    "    def __call__(self, k):\n",
    "        total = (-mu1-mu2)+(theano.tensor.log(mu1)-theano.tensor.log(mu2))*k/2\n",
    "        log_prob = total+ theano.tensor.log(iv_tensor(k, 2*theano.tensor.sqrt(mu1*mu2)))\n",
    "        return log_prob\n",
    "\n",
    "with pymc3.Model() as model:\n",
    "    \n",
    "    beta0 = pymc3.Normal('beta0',mu=0,sd=100)\n",
    "    beta1 = pymc3.Normal('beta1',mu=0,sd=100)\n",
    "    \n",
    "    mean = beta0*X['constant'] + beta1*X['var']\n",
    "    \n",
    "    var = pymc3.DiscreteUniform('var',lower=1, upper=1000)\n",
    "    \n",
    "    mu1 = (var + mean)/2\n",
    "    mu2 = (var - mean)/2\n",
    "    \n",
    "    obs = pymc3.DensityDist('obs', skellam_log(mu1,mu2), observed=Y)\n",
    "    \n",
    "    trace = pymc3.sample(2000, njobs=2, tune=500, target_accept=0.99)"
   ]
  },
  {
   "cell_type": "code",
   "execution_count": null,
   "id": "cb058705",
   "metadata": {},
   "outputs": [],
   "source": [
    "_ = pymc3.traceplot(trace)"
   ]
  }
 ],
 "metadata": {
  "kernelspec": {
   "display_name": "Python 3 (ipykernel)",
   "language": "python",
   "name": "python3"
  },
  "language_info": {
   "codemirror_mode": {
    "name": "ipython",
    "version": 3
   },
   "file_extension": ".py",
   "mimetype": "text/x-python",
   "name": "python",
   "nbconvert_exporter": "python",
   "pygments_lexer": "ipython3",
   "version": "3.9.7"
  }
 },
 "nbformat": 4,
 "nbformat_minor": 5
}
